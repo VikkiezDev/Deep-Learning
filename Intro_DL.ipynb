{
  "nbformat": 4,
  "nbformat_minor": 0,
  "metadata": {
    "colab": {
      "provenance": []
    },
    "kernelspec": {
      "name": "python3",
      "display_name": "Python 3"
    },
    "language_info": {
      "name": "python"
    }
  },
  "cells": [
    {
      "cell_type": "code",
      "execution_count": null,
      "metadata": {
        "id": "VMki0TP3uHY9"
      },
      "outputs": [],
      "source": [
        "!pip install numpy\n",
        "!pip install tensorflow"
      ]
    },
    {
      "cell_type": "code",
      "source": [
        "import numpy as np\n",
        "import tensorflow as tf"
      ],
      "metadata": {
        "id": "IJpISwrdvqh2"
      },
      "execution_count": 4,
      "outputs": []
    },
    {
      "cell_type": "markdown",
      "source": [
        "# Creation"
      ],
      "metadata": {
        "id": "ShfzIZ54yrbw"
      }
    },
    {
      "cell_type": "code",
      "source": [
        "x = np.array([1,2,3,4])\n",
        "print('This is an vector: ', x)"
      ],
      "metadata": {
        "colab": {
          "base_uri": "https://localhost:8080/"
        },
        "id": "1gNK6haLvKAo",
        "outputId": "81a880fa-60fa-437e-ecd6-b7b5f1794dc6"
      },
      "execution_count": 5,
      "outputs": [
        {
          "output_type": "stream",
          "name": "stdout",
          "text": [
            "This is an vector:  [1 2 3 4]\n"
          ]
        }
      ]
    },
    {
      "cell_type": "code",
      "source": [
        "A = np.array([[1,2],[3,4],[5,6]])\n",
        "print('This is an Matrix: ', A)"
      ],
      "metadata": {
        "colab": {
          "base_uri": "https://localhost:8080/"
        },
        "id": "UNAzqOy8vhIb",
        "outputId": "c81e995e-82e1-4915-9011-7745d4347e12"
      },
      "execution_count": 8,
      "outputs": [
        {
          "output_type": "stream",
          "name": "stdout",
          "text": [
            "This is an Matrix:  [[1 2]\n",
            " [3 4]\n",
            " [5 6]]\n"
          ]
        }
      ]
    },
    {
      "cell_type": "code",
      "source": [
        "tensor_A = tf.constant([[1,2], [3,4], [5,6]])\n",
        "print('This is an Tensor: ', tensor_A)"
      ],
      "metadata": {
        "colab": {
          "base_uri": "https://localhost:8080/"
        },
        "id": "eufVz6ErwNbU",
        "outputId": "841487bd-ef14-46fb-d760-b6d0ea1aba91"
      },
      "execution_count": 10,
      "outputs": [
        {
          "output_type": "stream",
          "name": "stdout",
          "text": [
            "This is an Tensor:  tf.Tensor(\n",
            "[[1 2]\n",
            " [3 4]\n",
            " [5 6]], shape=(3, 2), dtype=int32)\n"
          ]
        }
      ]
    },
    {
      "cell_type": "markdown",
      "source": [
        "# Addition"
      ],
      "metadata": {
        "id": "EAxmy68Kyw26"
      }
    },
    {
      "cell_type": "code",
      "source": [
        "vec_1 = np.array([1, 2, 3, 4])\n",
        "vec_2 = np.array([9, 8, 7, 6])\n",
        "\n",
        "vec_add = vec_1 + vec_2\n",
        "\n",
        "print('This is the addition of 2 vectors: ')\n",
        "print(vec_add)"
      ],
      "metadata": {
        "colab": {
          "base_uri": "https://localhost:8080/"
        },
        "id": "iuEZfW_Lwmyg",
        "outputId": "3af1d859-ed96-4324-88e3-c9382e3d022c"
      },
      "execution_count": 17,
      "outputs": [
        {
          "output_type": "stream",
          "name": "stdout",
          "text": [
            "This is the addition of 2 vectors: \n",
            "[10 10 10 10]\n"
          ]
        }
      ]
    },
    {
      "cell_type": "code",
      "source": [
        "mat_1 = np.array([[1, 2],[ 3, 4]])\n",
        "mat_2 = np.array([[9, 8], [7, 6]])\n",
        "\n",
        "mat_add = mat_1 + mat_2\n",
        "\n",
        "print('This is the addition of 2 matrices:')\n",
        "print(mat_add)"
      ],
      "metadata": {
        "colab": {
          "base_uri": "https://localhost:8080/"
        },
        "id": "GxnfSH9IzwA3",
        "outputId": "e68f6aba-38d1-4b8a-b4a4-0d67f6e41247"
      },
      "execution_count": 18,
      "outputs": [
        {
          "output_type": "stream",
          "name": "stdout",
          "text": [
            "This is the addition of 2 matrices:\n",
            "[[10 10]\n",
            " [10 10]]\n"
          ]
        }
      ]
    },
    {
      "cell_type": "code",
      "source": [
        "ten_1 = tf.constant([[1, 2], [3, 4]])\n",
        "ten_2 = tf.constant([[9, 8], [7, 6]])\n",
        "\n",
        "ten_add = ten_1 + ten_2\n",
        "\n",
        "print('This is the addition of 2 tensors: ')\n",
        "print(ten_add)"
      ],
      "metadata": {
        "colab": {
          "base_uri": "https://localhost:8080/"
        },
        "id": "1ZSUYit71GQ7",
        "outputId": "9ea2f86d-8962-4b53-ba99-f7474ebe31ba"
      },
      "execution_count": 19,
      "outputs": [
        {
          "output_type": "stream",
          "name": "stdout",
          "text": [
            "This is the addition of 2 tensors: \n",
            "tf.Tensor(\n",
            "[[10 10]\n",
            " [10 10]], shape=(2, 2), dtype=int32)\n"
          ]
        }
      ]
    },
    {
      "cell_type": "markdown",
      "source": [
        "# Multiplication"
      ],
      "metadata": {
        "id": "kQWX4zxx2X6N"
      }
    },
    {
      "cell_type": "code",
      "source": [
        "vec_3 = np.array([1, 2, 3, 4])\n",
        "vec_4 = np.array([9, 8, 7, 6])\n",
        "\n",
        "vec_mul = vec_3 * vec_4\n",
        "\n",
        "print('This is the multiplication of 2 vectors: ')\n",
        "print(vec_mul)"
      ],
      "metadata": {
        "colab": {
          "base_uri": "https://localhost:8080/"
        },
        "id": "DqClj7YG2cHT",
        "outputId": "7d1a2bcb-eb86-41c4-f04d-19ee8b67e01e"
      },
      "execution_count": 20,
      "outputs": [
        {
          "output_type": "stream",
          "name": "stdout",
          "text": [
            "This is the multiplication of 2 vectors: \n",
            "[ 9 16 21 24]\n"
          ]
        }
      ]
    },
    {
      "cell_type": "code",
      "source": [
        "mat_3 = np.array([[1, 2], [3, 4]])\n",
        "mat_4 = np.array([[9, 8], [7, 6]])\n",
        "\n",
        "mat_mul = mat_3 * mat_4\n",
        "\n",
        "print('This is the multiplication of 2 matrices: ')\n",
        "print(mat_mul)"
      ],
      "metadata": {
        "colab": {
          "base_uri": "https://localhost:8080/"
        },
        "id": "jYerIgx83NAv",
        "outputId": "dcb51e19-30b3-4a8b-a812-dcf47d94bb1c"
      },
      "execution_count": 21,
      "outputs": [
        {
          "output_type": "stream",
          "name": "stdout",
          "text": [
            "This is the multiplication of 2 matrices: \n",
            "[[ 9 16]\n",
            " [21 24]]\n"
          ]
        }
      ]
    },
    {
      "cell_type": "code",
      "source": [
        "ten_3 = tf.constant([[1, 2], [3, 4]])\n",
        "ten_4 = tf.constant([[9, 8], [7, 6]])\n",
        "\n",
        "ten_mul = ten_3 * ten_4\n",
        "\n",
        "print('This is the multiplication of 2 tensors: ')\n",
        "print(ten_mul)"
      ],
      "metadata": {
        "colab": {
          "base_uri": "https://localhost:8080/"
        },
        "id": "NCTyriNV3913",
        "outputId": "a5ba8e83-4aba-4538-a15c-49e77ffb8a9d"
      },
      "execution_count": 22,
      "outputs": [
        {
          "output_type": "stream",
          "name": "stdout",
          "text": [
            "This is the multiplication of 2 tensors: \n",
            "tf.Tensor(\n",
            "[[ 9 16]\n",
            " [21 24]], shape=(2, 2), dtype=int32)\n"
          ]
        }
      ]
    },
    {
      "cell_type": "markdown",
      "source": [
        "## Multiplication between a vector and matrix\n",
        "- matrix x vector / vector x matrix both gives a matrix"
      ],
      "metadata": {
        "id": "OWDE1nUB4d0A"
      }
    },
    {
      "cell_type": "code",
      "source": [
        "vec_5 = np.array([1, 2, 3, 4])\n",
        "mat_5 = np.array([[1, 2], [3, 4]])\n",
        "\n",
        "mat_6 = vec_5 * mat_5\n",
        "\n",
        "print('This is the multiplication of a matrix and a vector: ')\n",
        "print(mat_6)"
      ],
      "metadata": {
        "id": "jsWiNOVE4lFD"
      },
      "execution_count": null,
      "outputs": []
    },
    {
      "cell_type": "markdown",
      "source": [
        "## Multiplication between vector and tensor:\n",
        "- vector x tensor / tensor x vector both give tensor"
      ],
      "metadata": {
        "id": "jGm0HJd_5y67"
      }
    },
    {
      "cell_type": "code",
      "source": [
        "vec_6 = np.array([1, 2])\n",
        "ten_6 = tf.constant([[1, 2], [3, 4]])\n",
        "\n",
        "ten_7 = vec_6 * ten_6\n",
        "\n",
        "print('This is the multiplication of a vector and tensor: ')\n",
        "print(ten_7)"
      ],
      "metadata": {
        "colab": {
          "base_uri": "https://localhost:8080/"
        },
        "id": "L5MsKWfE5tU3",
        "outputId": "9fea8b32-28f6-4ed6-9703-72c30923b04c"
      },
      "execution_count": 28,
      "outputs": [
        {
          "output_type": "stream",
          "name": "stdout",
          "text": [
            "This is the multiplication of a vector and tensor: \n",
            "tf.Tensor(\n",
            "[[1 4]\n",
            " [3 8]], shape=(2, 2), dtype=int32)\n"
          ]
        }
      ]
    },
    {
      "cell_type": "markdown",
      "source": [
        "## Multiplication between matrix and tensor\n",
        "- matrix x tensor / tensor x matrix gives tensor"
      ],
      "metadata": {
        "id": "CKToJDgL7RJ6"
      }
    },
    {
      "cell_type": "code",
      "source": [
        "mat_7 = np.array([[1, 2], [3, 4]])\n",
        "ten_8 = tf.constant([[1, 2], [3, 4]])\n",
        "\n",
        "ten_9 = ten_8 * mat_7\n",
        "\n",
        "print('This is the multiplication of a matrix and tensor: ')\n",
        "print(ten_9)"
      ],
      "metadata": {
        "colab": {
          "base_uri": "https://localhost:8080/"
        },
        "id": "gsAR9yFz5pn8",
        "outputId": "532c2372-d1c8-47fd-9330-6dafb2c74a1b"
      },
      "execution_count": 30,
      "outputs": [
        {
          "output_type": "stream",
          "name": "stdout",
          "text": [
            "This is the multiplication of a matrix and tensor: \n",
            "tf.Tensor(\n",
            "[[ 1  4]\n",
            " [ 9 16]], shape=(2, 2), dtype=int32)\n"
          ]
        }
      ]
    },
    {
      "cell_type": "code",
      "source": [
        "tf_x = tf.constant([1, 2, 3, 4, 5, 6], shape = [2, 3])\n",
        "tf_y = tf.constant([4, 5, 6, 7, 8, 9], shape = [3, 2])\n",
        "\n"
      ],
      "metadata": {
        "id": "UIhkiq3j8-VN"
      },
      "execution_count": null,
      "outputs": []
    },
    {
      "cell_type": "code",
      "source": [],
      "metadata": {
        "id": "mpRClgSh-VVj"
      },
      "execution_count": null,
      "outputs": []
    }
  ]
}